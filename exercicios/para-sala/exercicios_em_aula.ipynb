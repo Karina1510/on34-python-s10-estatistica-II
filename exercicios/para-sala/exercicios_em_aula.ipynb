{
  "cells": [
    {
      "cell_type": "markdown",
      "metadata": {
        "id": "-loKMtV4wS0-"
      },
      "source": [
        "# Medidas Descritivas"
      ]
    },
    {
      "cell_type": "markdown",
      "metadata": {
        "id": "8IocZ90mRXJT"
      },
      "source": [
        "Dado o conjunto de dados [5, 7, 7, 8, 8, 8, 9, 10], calcule as seguintes medidas descritivas: média, mediana, moda e desvio padrão."
      ]
    },
    {
      "cell_type": "code",
      "execution_count": 21,
      "metadata": {
        "colab": {
          "base_uri": "https://localhost:8080/"
        },
        "id": "iux36Dj7Q5E6",
        "outputId": "996ab34a-fe02-4f37-cd0e-054917d88aad"
      },
      "outputs": [
        {
          "name": "stdout",
          "output_type": "stream",
          "text": [
            "A média é 7.75\n"
          ]
        }
      ],
      "source": [
        "#Média\n",
        "\n",
        "#dados\n",
        "dados = [5, 7, 7, 8, 8, 8, 9, 10]\n",
        "\n",
        "media = sum(dados) / len(dados)\n",
        "print(f\"A média é {media}\")"
      ]
    },
    {
      "cell_type": "code",
      "execution_count": 22,
      "metadata": {
        "colab": {
          "base_uri": "https://localhost:8080/"
        },
        "id": "EMGv4DqcTbCX",
        "outputId": "b6ef7668-8bc1-41d9-ec67-c569617db665"
      },
      "outputs": [
        {
          "name": "stdout",
          "output_type": "stream",
          "text": [
            "O valor da mediana é : 8.0\n"
          ]
        }
      ],
      "source": [
        "#Mediana\n",
        "\n",
        "#dados\n",
        "dados = [5, 7, 7, 8, 8, 8, 9, 10]\n",
        "\n",
        "# organizar os dados\n",
        "dados_ordenados = sorted(dados)\n",
        "n = len(dados_ordenados)\n",
        "\n",
        "if n % 2 == 1:\n",
        "  mediana = dados_ordenados[n // 2]\n",
        "else:\n",
        "  mediana = (dados_ordenados [n // 2 - 1] + dados_ordenados[n // 2])/2\n",
        "\n",
        "print(f\"O valor da mediana é : {mediana}\")"
      ]
    },
    {
      "cell_type": "code",
      "execution_count": 23,
      "metadata": {
        "colab": {
          "base_uri": "https://localhost:8080/"
        },
        "id": "e7LqDFtiWAyf",
        "outputId": "aa249216-ed52-4c29-ff2b-4c7c87b479a0"
      },
      "outputs": [
        {
          "name": "stdout",
          "output_type": "stream",
          "text": [
            "{5: 1, 7: 2, 8: 3, 9: 1, 10: 1}\n",
            "3\n",
            "A moda é [8]\n"
          ]
        }
      ],
      "source": [
        "#Moda\n",
        "\n",
        "#dados\n",
        "dados = [5, 7, 7, 8, 8, 8, 9, 10]\n",
        "\n",
        "frequencia = {}\n",
        "for numero in dados:\n",
        "  if numero in frequencia:\n",
        "    frequencia [numero] += 1\n",
        "  else:\n",
        "    frequencia[numero] = 1\n",
        "print(frequencia)\n",
        "\n",
        "max_frequencia = max(frequencia.values())\n",
        "print(max_frequencia)\n",
        "\n",
        "moda = [key for key, value in frequencia.items() if value == max_frequencia]\n",
        "\n",
        "print(f\"A moda é {moda}\")"
      ]
    },
    {
      "cell_type": "code",
      "execution_count": 24,
      "metadata": {
        "colab": {
          "base_uri": "https://localhost:8080/"
        },
        "id": "toBTZzxratHo",
        "outputId": "44c082c4-799b-4697-ce44-1110bdd2151b"
      },
      "outputs": [
        {
          "name": "stdout",
          "output_type": "stream",
          "text": [
            "7.75\n",
            "15.5\n",
            "2.2142857142857144\n",
            "Desvio padrão é 1.49\n"
          ]
        }
      ],
      "source": [
        "# Desvio Padrão\n",
        "\n",
        "#importar biblioteca math\n",
        "import math\n",
        "\n",
        "#dados\n",
        "dados = [5, 7, 7, 8, 8, 8, 9, 10]\n",
        "\n",
        "# Passo 1: Calcular média\n",
        "soma = sum(dados)\n",
        "quantidade = len(dados)\n",
        "media = soma / quantidade\n",
        "print(media)\n",
        "\n",
        "# Passo 2: Calcular a variância\n",
        "soma_quadrados_dif = sum((x - media)**2 for x in dados)\n",
        "print(soma_quadrados_dif)\n",
        "\n",
        "variancia = soma_quadrados_dif / (quantidade - 1)\n",
        "print(variancia)\n",
        "\n",
        "# Passo 3 : Calcular o desvio padrão\n",
        "desvio_padrao = math.sqrt(variancia)\n",
        "\n",
        "print(f\"Desvio padrão é {desvio_padrao:.2f}\")"
      ]
    },
    {
      "cell_type": "code",
      "execution_count": 25,
      "metadata": {
        "colab": {
          "base_uri": "https://localhost:8080/"
        },
        "id": "wv3-GVYCy3px",
        "outputId": "fba33684-c241-4d83-840a-61be91b4fedb"
      },
      "outputs": [
        {
          "name": "stdout",
          "output_type": "stream",
          "text": [
            "Quantidade de observações (N): 8\n",
            "Desvio padrão amostral: 1.4880476182856899\n"
          ]
        }
      ],
      "source": [
        "import numpy as np\n",
        "\n",
        "#dados\n",
        "dados = [5, 7, 7, 8, 8, 8, 9, 10]\n",
        "\n",
        "#Número de observações na amostra (N)\n",
        "N = len(dados)\n",
        "\n",
        "# Calculando o desvio padrão amostral\n",
        "desvio_padrao_amostral = np.std(dados, ddof=1)\n",
        "\n",
        "# Exibindo o resultado\n",
        "print(f\"Quantidade de observações (N): {N}\")\n",
        "print(f\"Desvio padrão amostral: {desvio_padrao_amostral}\")"
      ]
    },
    {
      "cell_type": "markdown",
      "metadata": {
        "id": "H3wdiADErCek"
      },
      "source": [
        "# Amostra"
      ]
    },
    {
      "cell_type": "code",
      "execution_count": 26,
      "metadata": {
        "colab": {
          "base_uri": "https://localhost:8080/"
        },
        "id": "76IC6mm_rFOr",
        "outputId": "da580cb5-e405-4084-ff2d-d40b46ceb169"
      },
      "outputs": [
        {
          "name": "stdout",
          "output_type": "stream",
          "text": [
            "[1, 2, 3, 4, 5, 6, 7, 8, 9, 10, 11, 12, 13, 14, 15, 16, 17, 18, 19, 20, 21, 22, 23, 24, 25, 26, 27, 28, 29, 30, 31, 32, 33, 34, 35, 36, 37, 38, 39, 40, 41, 42, 43, 44, 45, 46, 47, 48, 49, 50, 51, 52, 53, 54, 55, 56, 57, 58, 59, 60, 61, 62, 63, 64, 65, 66, 67, 68, 69, 70, 71, 72, 73, 74, 75, 76, 77, 78, 79, 80, 81, 82, 83, 84, 85, 86, 87, 88, 89, 90, 91, 92, 93, 94, 95, 96, 97, 98, 99, 100]\n",
            "10\n",
            "Amostra Aleatória Simples [95, 100, 20, 13, 73, 4, 14, 50, 33, 24]\n"
          ]
        }
      ],
      "source": [
        "#importar biblioteca\n",
        "import random\n",
        "\n",
        "# dados\n",
        "populacao = list(range(1, 101)) #numeros de 1 a 100\n",
        "print(populacao)\n",
        "\n",
        "tamanho_amostra = 10\n",
        "print(tamanho_amostra)\n",
        "\n",
        "# Amostra Aleatória simples\n",
        "amostra = random.sample(populacao, tamanho_amostra)\n",
        "print(f\"Amostra Aleatória Simples {amostra}\")"
      ]
    },
    {
      "cell_type": "code",
      "execution_count": 27,
      "metadata": {
        "colab": {
          "base_uri": "https://localhost:8080/"
        },
        "id": "vYfhx-kfu_oc",
        "outputId": "90aa9083-4374-4d35-cc55-380d6dd69c07"
      },
      "outputs": [
        {
          "name": "stdout",
          "output_type": "stream",
          "text": [
            "{'grupo1': [1, 2, 3, 4, 5], 'grupo2': [6, 7, 8, 9, 10], 'grupo3': [11, 12, 13, 14, 15]}\n",
            "Amostra Estratificada {'grupo1': [4, 2], 'grupo2': [8, 6], 'grupo3': [15, 12]}\n"
          ]
        }
      ],
      "source": [
        "#Amostragem Estratificada\n",
        "\n",
        "#dados\n",
        "populacao = {\n",
        "    'grupo1': [1,2,3,4,5],\n",
        "    'grupo2': [6,7,8,9,10],\n",
        "    'grupo3': [11,12,13,14,15]\n",
        "}\n",
        "print(populacao)\n",
        "tamanho_amostra_por_grupo = 2\n",
        "\n",
        "# Amostragem Estratificada\n",
        "amostra_est = {grupo: random.sample(membros, tamanho_amostra_por_grupo) for grupo, membros in populacao.items()}\n",
        "print(f\"Amostra Estratificada {amostra_est}\")"
      ]
    },
    {
      "cell_type": "code",
      "execution_count": 28,
      "metadata": {
        "colab": {
          "base_uri": "https://localhost:8080/"
        },
        "id": "Q_NJf6iCzxnf",
        "outputId": "5d2a9b54-1ba4-441b-d455-42d4e659831b"
      },
      "outputs": [
        {
          "name": "stdout",
          "output_type": "stream",
          "text": [
            "{'conglomerado1': [1, 2, 3, 4, 5], 'conglomerado2': [6, 7, 8, 9, 10], 'conglomerado3': [11, 12, 13, 14, 15], 'conglomerado4': [16, 17, 18, 19, 20]}\n",
            "['conglomerado1', 'conglomerado2', 'conglomerado3', 'conglomerado4']\n",
            "['conglomerado1', 'conglomerado3']\n",
            "Amostra por Conglomerados {'conglomerado1': [1, 2, 3, 4, 5], 'conglomerado3': [11, 12, 13, 14, 15]}\n"
          ]
        }
      ],
      "source": [
        "#Amostragem por Conglomerados\n",
        "\n",
        "#dados\n",
        "populacao = {\n",
        "    'conglomerado1': [1, 2, 3, 4,5],\n",
        "    'conglomerado2': [6,7,8,9,10],\n",
        "    'conglomerado3': [11,12,13,14,15],\n",
        "    'conglomerado4': [16,17,18,19,20]\n",
        "}\n",
        "print(populacao)\n",
        "num_conglomerados_selecionados = 2\n",
        "\n",
        "# Amostra por conglomerados\n",
        "conglomerados = list(populacao.keys())\n",
        "print(conglomerados)\n",
        "\n",
        "conglomerados_selecionados = random.sample(conglomerados, num_conglomerados_selecionados)\n",
        "print(conglomerados_selecionados)\n",
        "\n",
        "amostra = {conglomerado : populacao [conglomerado] for conglomerado in conglomerados_selecionados}\n",
        "print(f\"Amostra por Conglomerados {amostra}\")\n"
      ]
    },
    {
      "cell_type": "code",
      "execution_count": 29,
      "metadata": {
        "colab": {
          "base_uri": "https://localhost:8080/"
        },
        "id": "0tyDUXSfPDsc",
        "outputId": "d627ed26-f03e-47ba-b098-d5de8f9cb9ae"
      },
      "outputs": [
        {
          "name": "stdout",
          "output_type": "stream",
          "text": [
            "[1, 2, 3, 4, 5, 6, 7, 8, 9, 10, 11, 12, 13, 14, 15, 16, 17, 18, 19, 20, 21, 22, 23, 24, 25, 26, 27, 28, 29, 30, 31, 32, 33, 34, 35, 36, 37, 38, 39, 40, 41, 42, 43, 44, 45, 46, 47, 48, 49, 50, 51, 52, 53, 54, 55, 56, 57, 58, 59, 60, 61, 62, 63, 64, 65, 66, 67, 68, 69, 70, 71, 72, 73, 74, 75, 76, 77, 78, 79, 80, 81, 82, 83, 84, 85, 86, 87, 88, 89, 90, 91, 92, 93, 94, 95, 96, 97, 98, 99, 100]\n",
            "8\n",
            "Amostra sistemática [9, 19, 29, 39, 49, 59, 69, 79, 89, 99]\n"
          ]
        }
      ],
      "source": [
        "#Amostragem Sistemática\n",
        "\n",
        "#dados\n",
        "populacao = list(range(1, 101))\n",
        "print(populacao)\n",
        "intervalo = 10\n",
        "ponto_de_partida = random.randint(0, intervalo - 1)\n",
        "print(ponto_de_partida)\n",
        "\n",
        "# Amostragem sistemática\n",
        "amostra = [populacao[i] for i in range(ponto_de_partida, len(populacao), intervalo)]\n",
        "\n",
        "print(f\"Amostra sistemática {amostra}\")"
      ]
    },
    {
      "cell_type": "markdown",
      "metadata": {
        "id": "8jPJwAABkhts"
      },
      "source": [
        "# Teste de hipóteses"
      ]
    },
    {
      "cell_type": "code",
      "execution_count": 30,
      "metadata": {
        "colab": {
          "base_uri": "https://localhost:8080/"
        },
        "id": "0x_NczWUkkgh",
        "outputId": "1e7c1cb4-a9de-4f53-f16a-413d87206a6c"
      },
      "outputs": [
        {
          "name": "stdout",
          "output_type": "stream",
          "text": [
            "Requirement already satisfied: scipy in /usr/local/lib/python3.10/dist-packages (1.13.1)\n",
            "Requirement already satisfied: numpy<2.3,>=1.22.4 in /usr/local/lib/python3.10/dist-packages (from scipy) (1.26.4)\n"
          ]
        }
      ],
      "source": [
        "#instalar\n",
        "!pip install scipy"
      ]
    },
    {
      "cell_type": "code",
      "execution_count": 31,
      "metadata": {
        "colab": {
          "base_uri": "https://localhost:8080/"
        },
        "id": "JWUcRroilAVr",
        "outputId": "88f4c0ab-1a85-4940-d1f7-d36be0a77a1c"
      },
      "outputs": [
        {
          "name": "stdout",
          "output_type": "stream",
          "text": [
            "Estatística t é 3.590662493587658\n",
            "Valor p é 0.007077669355475713\n"
          ]
        }
      ],
      "source": [
        "#Teste t de student\n",
        "\n",
        "#importar\n",
        "from scipy.stats import ttest_1samp\n",
        "\n",
        "#dados\n",
        "dados = [22, 21, 24, 25, 20, 23, 20, 21, 23]\n",
        "\n",
        "#Teste de hipóteses\n",
        "# H0: A média é igual a 20\n",
        "# H1 : A média é diferente de 20\n",
        "\n",
        "t_estatistico, p_valor = ttest_1samp(dados, 20)\n",
        "\n",
        "print(f\"Estatística t é {t_estatistico}\")\n",
        "print(f\"Valor p é {p_valor}\")"
      ]
    },
    {
      "cell_type": "code",
      "execution_count": 32,
      "metadata": {
        "colab": {
          "base_uri": "https://localhost:8080/"
        },
        "id": "3QTlC2WSG43K",
        "outputId": "c6b88832-e6e4-4f3f-f651-c780aef15288"
      },
      "outputs": [
        {
          "data": {
            "text/plain": [
              "TtestResult(statistic=3.590662493587658, pvalue=0.007077669355475713, df=8)"
            ]
          },
          "execution_count": 32,
          "metadata": {},
          "output_type": "execute_result"
        }
      ],
      "source": [
        "ttest_1samp(dados, 20)"
      ]
    },
    {
      "cell_type": "code",
      "execution_count": 36,
      "metadata": {
        "id": "1nAc23xJkD3-"
      },
      "outputs": [],
      "source": [
        "p_valor = 0.1"
      ]
    },
    {
      "cell_type": "code",
      "execution_count": 37,
      "metadata": {
        "colab": {
          "base_uri": "https://localhost:8080/"
        },
        "id": "hKvOBFzFhNeS",
        "outputId": "343776d2-90ad-4919-c7b8-6e36be6f6343"
      },
      "outputs": [
        {
          "name": "stdout",
          "output_type": "stream",
          "text": [
            "Aceitamos a Hípotese Nula\n"
          ]
        }
      ],
      "source": [
        "confianca = 0.95\n",
        "\n",
        "significancia = 1 - confianca\n",
        "\n",
        "if p_valor < significancia:\n",
        "  print(\"Rejeitamos a Hípotese Nula\")\n",
        "else:\n",
        "  print(\"Aceitamos a Hípotese Nula\")"
      ]
    },
    {
      "cell_type": "markdown",
      "metadata": {
        "id": "bk3gc01E12XV"
      },
      "source": [
        "# Teste Z"
      ]
    },
    {
      "cell_type": "code",
      "execution_count": 35,
      "metadata": {
        "colab": {
          "base_uri": "https://localhost:8080/"
        },
        "id": "fpD1D3b11p_2",
        "outputId": "6bd020ee-cca3-4413-fcbb-4bb095aede4e"
      },
      "outputs": [
        {
          "name": "stdout",
          "output_type": "stream",
          "text": [
            "Requirement already satisfied: statsmodels in /usr/local/lib/python3.10/dist-packages (0.14.2)\n",
            "Requirement already satisfied: numpy>=1.22.3 in /usr/local/lib/python3.10/dist-packages (from statsmodels) (1.26.4)\n",
            "Requirement already satisfied: scipy!=1.9.2,>=1.8 in /usr/local/lib/python3.10/dist-packages (from statsmodels) (1.13.1)\n",
            "Requirement already satisfied: pandas!=2.1.0,>=1.4 in /usr/local/lib/python3.10/dist-packages (from statsmodels) (2.1.4)\n",
            "Requirement already satisfied: patsy>=0.5.6 in /usr/local/lib/python3.10/dist-packages (from statsmodels) (0.5.6)\n",
            "Requirement already satisfied: packaging>=21.3 in /usr/local/lib/python3.10/dist-packages (from statsmodels) (24.1)\n",
            "Requirement already satisfied: python-dateutil>=2.8.2 in /usr/local/lib/python3.10/dist-packages (from pandas!=2.1.0,>=1.4->statsmodels) (2.8.2)\n",
            "Requirement already satisfied: pytz>=2020.1 in /usr/local/lib/python3.10/dist-packages (from pandas!=2.1.0,>=1.4->statsmodels) (2024.1)\n",
            "Requirement already satisfied: tzdata>=2022.1 in /usr/local/lib/python3.10/dist-packages (from pandas!=2.1.0,>=1.4->statsmodels) (2024.1)\n",
            "Requirement already satisfied: six in /usr/local/lib/python3.10/dist-packages (from patsy>=0.5.6->statsmodels) (1.16.0)\n"
          ]
        }
      ],
      "source": [
        "# instalação da biblioteca\n",
        "!pip install statsmodels"
      ]
    },
    {
      "cell_type": "code",
      "execution_count": 38,
      "metadata": {
        "colab": {
          "base_uri": "https://localhost:8080/"
        },
        "id": "xLdqSiTd2Hol",
        "outputId": "bdf3b8f8-e353-48cf-d1b3-796f63e9a071"
      },
      "outputs": [
        {
          "name": "stdout",
          "output_type": "stream",
          "text": [
            "Estatística z é 2.801\n",
            "Valor p é 0.005\n"
          ]
        }
      ],
      "source": [
        "#importar\n",
        "from statsmodels.stats.proportion import proportions_ztest\n",
        "\n",
        "# dados\n",
        "#tamanho da amostra\n",
        "n = 100\n",
        "# número de sucesso (clientes satisfeitos)\n",
        "x = 85\n",
        "#proporção a ser testada\n",
        "p0 = 0.75\n",
        "\n",
        "# teste de hipóteses\n",
        "# H0: A proporção é igual a p0\n",
        "# H1: A proporção é maior que p0\n",
        "\n",
        "estatistica, p_valor = proportions_ztest(x, n, p0)\n",
        "\n",
        "#print\n",
        "print(f\"Estatística z é {estatistica:.3f}\")\n",
        "print(f\"Valor p é {p_valor:.3f}\")"
      ]
    },
    {
      "cell_type": "code",
      "execution_count": 42,
      "metadata": {
        "colab": {
          "base_uri": "https://localhost:8080/"
        },
        "id": "yCCGVZzomwRF",
        "outputId": "af404287-b0fa-43fb-cff0-991edf58b3fc"
      },
      "outputs": [
        {
          "data": {
            "text/plain": [
              "(2.800560168056019, 0.005101399646004992)"
            ]
          },
          "execution_count": 42,
          "metadata": {},
          "output_type": "execute_result"
        }
      ],
      "source": [
        "proportions_ztest(x, n, p0)"
      ]
    },
    {
      "cell_type": "code",
      "execution_count": 41,
      "metadata": {
        "colab": {
          "base_uri": "https://localhost:8080/"
        },
        "id": "IxqYUisNGvck",
        "outputId": "f2fd293c-d4ec-4103-f7ec-ce56459cdc84"
      },
      "outputs": [
        {
          "name": "stdout",
          "output_type": "stream",
          "text": [
            "Rejeitamos a Hípotese Nula\n"
          ]
        }
      ],
      "source": [
        "confianca = 0.95\n",
        "\n",
        "significancia = 1 - confianca\n",
        "\n",
        "if p_valor < significancia:\n",
        "  print(\"Rejeitamos a Hípotese Nula\")\n",
        "else:\n",
        "  print(\"Aceitamos a Hípotese Nula\")"
      ]
    },
    {
      "cell_type": "markdown",
      "metadata": {
        "id": "2ezLS1lm8y0A"
      },
      "source": [
        "#Teste Qui-quadrado"
      ]
    },
    {
      "cell_type": "code",
      "execution_count": 39,
      "metadata": {
        "colab": {
          "base_uri": "https://localhost:8080/"
        },
        "id": "kr3dFztx5L7I",
        "outputId": "0ff0a3db-7338-4927-b835-f6c1bcf03889"
      },
      "outputs": [
        {
          "name": "stdout",
          "output_type": "stream",
          "text": [
            "A Estatistica é 15.163685357183805\n",
            "Valor p é 0.001\n"
          ]
        }
      ],
      "source": [
        "#importar\n",
        "import numpy as np\n",
        "from scipy.stats import chi2_contingency\n",
        "\n",
        "# dados\n",
        "dados = np.array([[154, 30, 20],[74, 35, 25]])\n",
        "\n",
        "# teste de hipotese\n",
        "# H0: Não há relação\n",
        "# H1: Há a relação\n",
        "\n",
        "# Teste\n",
        "estatistica, p_valor, grau_de_liberdade, matriz_frequencia = chi2_contingency(dados)\n",
        "\n",
        "print(f\"A Estatistica é {estatistica}\")\n",
        "print(f\"Valor p é {p_valor:.3f}\")"
      ]
    },
    {
      "cell_type": "code",
      "execution_count": 43,
      "metadata": {
        "colab": {
          "base_uri": "https://localhost:8080/"
        },
        "id": "hFD5TOzEFjb5",
        "outputId": "906c5eb5-8e08-4341-9c27-a2c186bfacaa"
      },
      "outputs": [
        {
          "data": {
            "text/plain": [
              "Chi2ContingencyResult(statistic=15.163685357183805, pvalue=0.0005096212890429803, dof=2, expected_freq=array([[137.60946746,  39.23076923,  27.15976331],\n",
              "       [ 90.39053254,  25.76923077,  17.84023669]]))"
            ]
          },
          "execution_count": 43,
          "metadata": {},
          "output_type": "execute_result"
        }
      ],
      "source": [
        "#Função\n",
        "chi2_contingency(dados)"
      ]
    },
    {
      "cell_type": "code",
      "execution_count": 44,
      "metadata": {
        "colab": {
          "base_uri": "https://localhost:8080/"
        },
        "id": "RexR6Nk0npN6",
        "outputId": "9c968d2c-c956-4fbf-ea41-f904d9409be9"
      },
      "outputs": [
        {
          "name": "stdout",
          "output_type": "stream",
          "text": [
            "Rejeitamos a Hípotese Nula\n"
          ]
        }
      ],
      "source": [
        "confianca = 0.95\n",
        "\n",
        "significancia = 1 - confianca\n",
        "\n",
        "if p_valor < significancia:\n",
        "  print(\"Rejeitamos a Hípotese Nula\")\n",
        "else:\n",
        "  print(\"Aceitamos a Hípotese Nula\")"
      ]
    },
    {
      "cell_type": "markdown",
      "metadata": {
        "id": "Nhwuju_rETwz"
      },
      "source": [
        "# Teste Anova"
      ]
    },
    {
      "cell_type": "code",
      "execution_count": 45,
      "metadata": {
        "colab": {
          "base_uri": "https://localhost:8080/"
        },
        "id": "v2KpzuHHC860",
        "outputId": "4f3363a4-fd9a-4023-99bb-8924c4f41e44"
      },
      "outputs": [
        {
          "name": "stdout",
          "output_type": "stream",
          "text": [
            "Estatistica é 12.84\n",
            " o Valor p 0.001\n"
          ]
        }
      ],
      "source": [
        "#importar\n",
        "from scipy.stats import f_oneway\n",
        "\n",
        "#Dados\n",
        "grupo1 = [170, 172, 168, 171, 175]\n",
        "grupo2 = [165, 168, 170, 166, 169]\n",
        "grupo3 = [172, 175, 178, 176, 174]\n",
        "\n",
        "#teste hipoteses\n",
        "#H0: A média dos grupos são iguais\n",
        "#H1: Pelo menos uma média de altura é diferente\n",
        "\n",
        "# teste\n",
        "estatistica, p_valor = f_oneway(grupo1, grupo2, grupo3)\n",
        "\n",
        "print(f\"Estatistica é {estatistica:.2f}\")\n",
        "print(f\" o Valor p {p_valor:.3f}\")"
      ]
    },
    {
      "cell_type": "code",
      "execution_count": 46,
      "metadata": {
        "colab": {
          "base_uri": "https://localhost:8080/"
        },
        "id": "3BQhZfJuG2Sh",
        "outputId": "c1412d99-0d5e-44a8-d332-b64fa414ef25"
      },
      "outputs": [
        {
          "data": {
            "text/plain": [
              "F_onewayResult(statistic=12.8375, pvalue=0.001044162063483525)"
            ]
          },
          "execution_count": 46,
          "metadata": {},
          "output_type": "execute_result"
        }
      ],
      "source": [
        "f_oneway(grupo1, grupo2, grupo3)"
      ]
    },
    {
      "cell_type": "code",
      "execution_count": 47,
      "metadata": {
        "colab": {
          "base_uri": "https://localhost:8080/"
        },
        "id": "venpDhZYocyz",
        "outputId": "d0c2fa66-329f-4cd2-cc6c-3b97758f9d80"
      },
      "outputs": [
        {
          "name": "stdout",
          "output_type": "stream",
          "text": [
            "Rejeitamos a Hípotese Nula\n"
          ]
        }
      ],
      "source": [
        "confianca = 0.95\n",
        "\n",
        "significancia = 1 - confianca\n",
        "\n",
        "if p_valor < significancia:\n",
        "  print(\"Rejeitamos a Hípotese Nula\")\n",
        "else:\n",
        "  print(\"Aceitamos a Hípotese Nula\")"
      ]
    }
  ],
  "metadata": {
    "colab": {
      "provenance": []
    },
    "kernelspec": {
      "display_name": "Python 3",
      "name": "python3"
    },
    "language_info": {
      "name": "python",
      "version": "3.11.4"
    }
  },
  "nbformat": 4,
  "nbformat_minor": 0
}
